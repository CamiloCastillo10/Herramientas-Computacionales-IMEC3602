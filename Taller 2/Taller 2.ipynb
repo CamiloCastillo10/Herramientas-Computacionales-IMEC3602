{
 "cells": [
  {
   "cell_type": "code",
   "execution_count": 12,
   "metadata": {},
   "outputs": [
    {
     "name": "stdout",
     "output_type": "stream",
     "text": [
      "Populating the interactive namespace from numpy and matplotlib\n"
     ]
    },
    {
     "name": "stderr",
     "output_type": "stream",
     "text": [
      "/home/nbuser/anaconda3_501/lib/python3.6/site-packages/IPython/core/magics/pylab.py:160: UserWarning: pylab import has clobbered these variables: ['gamma']\n",
      "`%matplotlib` prevents importing * from pylab and numpy\n",
      "  \"\\n`%matplotlib` prevents importing * from pylab and numpy\"\n"
     ]
    }
   ],
   "source": [
    "\n",
    "%pylab inline\n",
    "from scipy.integrate import odeint\n",
    "import matplotlib.pyplot as plt\n",
    "import pandas as pd"
   ]
  },
  {
   "cell_type": "markdown",
   "metadata": {},
   "source": [
    "$R_x = R_{xf} + R_{xr} = f_r(W_f+W_r) = f_rW\\ $"
   ]
  },
  {
   "cell_type": "code",
   "execution_count": 2,
   "metadata": {},
   "outputs": [],
   "source": [
    "vmaxtot=106/3.6; #Velocidad máxima alcanzable (m/s) reportado por Clavijo"
   ]
  },
  {
   "cell_type": "code",
   "execution_count": 3,
   "metadata": {},
   "outputs": [],
   "source": [
    "I=52 #kg*cm2"
   ]
  },
  {
   "cell_type": "code",
   "execution_count": 25,
   "metadata": {},
   "outputs": [],
   "source": [
    "# Datos Llantas tractivas \n",
    "rll=0.139 # Radio geométrico de las llantas en traseras (m)\n",
    "refc=0.98*rll # Radio efectivo llantas traseras (m)\n",
    "rin=0.0631 #radio interno del neumático (m)\n",
    "\n",
    "# Datos Transmisión\n",
    "dp=11.0 # Dientes del piñon\n",
    "dpl=39.0 # Dientes del plato\n",
    "ng=dpl/dp # Relación de Transmisión\n",
    "etaf=0.95 # Eficiencia de transmisión\n",
    "NGS=[1.1333,1.3852,1.637,1.8889,2.1407,2.3926,2.6444,2.8963,3.1481,3.4] #Realciones de transmision obtenidas de ilustracion 45 de clavijo\n",
    "\n",
    "# Datos eje llantas\n",
    "reje=0.02 # Radio eje de las llantas (m)\n",
    "meje=3.832 # Masa del eje (kg)\n",
    "\n",
    "# Datos Kart general\n",
    "masa=152.0 # masa del Kart (kg)\n",
    "g=9.81 # Gravedad (m/s)\n",
    "\n",
    "\n",
    "# Datos Fuerzas de la fórmula de aceleración\n",
    "rho=1.1955 # densidad del aire (kg/m^3)\n",
    "dll=0.975 # Distancia entre ejes de llantas delanteras (m)\n",
    "alj=0.88 # Altura con el piloto sentado en el kart (estatura 1.68 m) (m)\n",
    "af=(dll*alj)/2 # Area Frontal Kart (m^2)\n",
    "cd=0.89 # Coeficiente de Arrastre Kart\n",
    "vw=0.0 # velocidad del viento (m/s)\n",
    "theta=0.0 # Angulo carretera\n",
    "\n",
    "# Inercias\n",
    "ii=5.2E-3 # Inercia motor de combustión (kg m^2) \n",
    "\n",
    "mllt=1.43 # Masa llantas traseras (kg)\n",
    "mlld=1.20 # Masa llantas delanteras (kg)\n",
    "rlld=0.129 # Radio llantas delanteras (m)\n",
    "rind=0.0631 # Radio rin llantas delanteras (m)\n",
    "mbt=0.7*mllt # El porcentaje de la masa total que pesa la parte \"banda\" de la llanta trasera\n",
    "mdt=0.3*mllt # El porcentaje de la masa total que pesa la parte \"disco\" de la llanta trasera\n",
    "mbd=0.7*mlld # El porcentaje de la masa total que pesa la parte \"banda\" de la llanta delantera\n",
    "mdd=0.3*mlld # El porcentaje de la masa total que pesa la parte \"disco\" de la llanta delantera\n",
    "illd=(mbd*rlld)+(mdd*(rlld**2-rind**2))/2 # Inercia 1 llanta delantera (kg-m^2)\n",
    "illt=(mbt*rll)+(mdt*(rll**2-rin**2))/2 # Inercia 1 llanta trasera (kg-m^2)\n",
    "\n",
    "#paso=7.62 #(mm)\n",
    "#rpim= paso*(0.6+(1/tan(180/dp))) # Radio Piñon (mm)\n",
    "#rplam=paso*(0.6+(1/tan(180/dpl))) # Radio Plato (mm)\n",
    "#rpi= rpim/1000 #Radio Piñon (m)\n",
    "#rpla= rplam/1000 #Radio Plato (m)\n",
    "rpi=0.01525#(m)\n",
    "rpla=0.04096 #(m)\n",
    "rhoac=7850.0 # Densidad del Acero (kg/m^3)\n",
    "bpi=0.01 # Ancho piñon (m)\n",
    "bpla=0.02 # Ancho plato (m)\n",
    "vpi= bpi*np.pi*rpi**2 # Volumen del piñon (m^3)\n",
    "vpla=bpla*np.pi*rpla**2 # Volumen del plato (m^3)\n",
    "mpi=rhoac*vpi # Masa del piñon (kg)\n",
    "mpla=rhoac*vpla # Masa del plato (kg)\n",
    "ig=((mpi*(rpi**2))/2.0)+((mpla*(rpla**2))/2.0) # Inercia de la transmisión (kg-m^2)\n",
    "\n",
    "ieje=(meje*reje**2)/2.0 # Inercia del eje de las llantas (kg-m^2)\n",
    "\n",
    "# Fuerzas Aceleración\n",
    "# Resistencia a la rodadura\n",
    "a=0.2231 # Distancia del centro de gravedad al eje de la llanta trasera (m)\n",
    "l=1.0063 # Distancia de eje de las llantas traseras y delanteras (m)\n",
    "h=0.07478 # Altura del centro de gravedad del kart con respecto al piso (m)\n",
    "\n",
    "masa_eq = 200 # ESto toca calcularlo correctamente\n",
    "\n",
    "gamma = 1 # aceleracion\n",
    "deltat=0.005\n",
    "mu=0.85 #coeficiente de friccion"
   ]
  },
  {
   "cell_type": "markdown",
   "metadata": {},
   "source": [
    "Fuerzas"
   ]
  },
  {
   "cell_type": "code",
   "execution_count": 65,
   "metadata": {},
   "outputs": [],
   "source": [
    "def peso(m):\n",
    "    pes=m*g\n",
    "    return pes\n",
    "\n",
    "def frodadura(m,vx,theta):\n",
    "    z=(a/l)*peso(m) #constante de rodadura\n",
    "    mr=peso(m)*((1/g*(h/l))) # masa de rodadura\n",
    "    fr=0.01*(1+(vx/100.0)) # Factor de rodadura la velocidad del kart debe estar en (km/h)\n",
    "\n",
    "    return mr*fr*cos(theta) , z*fr*cos(theta) # (N)\n",
    "\n",
    "# Fuerza del ángulo de la carretera\n",
    "def finclinacion(m,theta):\n",
    "    return peso(m)*sin(theta) # (N)\n",
    "\n",
    "# Fuerza de arrastre\n",
    "def farrastre(vx):\n",
    "    return (1.0/2.0)*rho*af*cd*(vx+vw)**2 # (N)\n",
    "\n",
    "\n",
    "def torque_curva(omega_m):\n",
    "    om=np.array((60*omega_m/(2*pi)))\n",
    "    om[om>5000]=5000\n",
    "    P=((-0.00000004564538677*om**3)+(0.0001056995459*om**2)+(1.53209191*om)-1.895523696)\n",
    "    T=P/(om*2*pi/60)\n",
    "    return T\n",
    "\n",
    "#modelo de frenado similar al modelo de rodadura\n",
    "def Ffrenado(m,v,theta,mu):\n",
    "\n",
    "    mr=peso(m)*((1/g*(h/l))) # masa de rodadura\n",
    "    z=(a/l)*peso(m) #constante de rodadura\n",
    "    fr=mu*cos(theta)\n",
    "    return mr*fr , z*fr # (N)\n"
   ]
  },
  {
   "cell_type": "code",
   "execution_count": 66,
   "metadata": {},
   "outputs": [],
   "source": [
    "# Velocidad angular del motor\n",
    "def vangularmotor(vx):\n",
    "    return (vx*ng)/(refc*etaf) # (rad/s)"
   ]
  },
  {
   "cell_type": "markdown",
   "metadata": {},
   "source": [
    "Inicio arranque"
   ]
  },
  {
   "cell_type": "code",
   "execution_count": 75,
   "metadata": {},
   "outputs": [],
   "source": [
    "def dveldt(velv,t_in,ng,m):\n",
    "    xx,vel = velv\n",
    "    ax=0\n",
    "    frod = frodadura(m,vel,theta)[1]\n",
    "    farr = farrastre(vel)\n",
    "    fincli = finclinacion(m,theta)\n",
    "    return [vel,(torque_curva(vangularmotor(vel))*ng*etaf/refc-frod-farr-fincli)/masa_eq] # para solucionar\n",
    "    # al tiempo posición y velocidad\n",
    "\n",
    "def ArranqueSolucion(t_in,c_ini,ng,m):\n",
    "    t=np.arange(t_in,t_in+1,deltat)\n",
    "    sol = odeint(dveldt, c_ini, t,args=(ng,m))\n",
    "    ultimo=sol[-1,1]\n",
    "    penultimo=sol[-2,1]\n",
    "    if ultimo-penultimo>0.0001:\n",
    "        sol=concatenate((sol,ArranqueSolucion(t[-1],[sol[-1,0],sol[-1,1]],ng,m)),axis=0)\n",
    "    return sol\n",
    "    \n",
    "\n"
   ]
  },
  {
   "cell_type": "code",
   "execution_count": null,
   "metadata": {},
   "outputs": [],
   "source": []
  },
  {
   "cell_type": "markdown",
   "metadata": {},
   "source": [
    "Frenado"
   ]
  },
  {
   "cell_type": "code",
   "execution_count": 89,
   "metadata": {},
   "outputs": [],
   "source": [
    "def dveldtFrenado(velv,t_in):\n",
    "    #xx,vel=v\n",
    "    #Mfr=Ffrenado(masa_eq,vel,theta,mu)[0] #Masa del modelo de rodadura\n",
    "    #Cfr=Ffrenado(masa_eq,vel,theta,mu)[1] #Constante del modelo de Rodadura\n",
    "    #farr = farrastre(vel)\n",
    "    #fincli = finclinacion(masa_eq,theta)\n",
    "\n",
    "    #a=(1/(masa_eq+Mfr))*(Cfr-farr-fincli)\n",
    "    #return [vel,a]\n",
    "    xx, vel = velv\n",
    "    ax=0\n",
    "    Fd = peso(masa)*mu*(l-a)/l\n",
    "    Ft = peso(masa)*mu*(a/l)\n",
    "    frod = frodadura(masa,vel,theta)[1]\n",
    "    farr = farrastre(vel)\n",
    "    fincli = finclinacion(masa,theta)\n",
    "    fren = (-Fd-Ft-farr-frod-fincli)/masa_eq\n",
    "    if vel<0:\n",
    "        fren=0\n",
    "    return vel, fren\n",
    "def FrenadoSolucion(t_in,c_ini):\n",
    "    t=np.arange(t_in,t_in+2,deltat)\n",
    "    sol = odeint(dveldtFrenado, c_ini, t)\n",
    "    ultimo=sol[-1,1]\n",
    "    if ultimo >0:\n",
    "        sol=np.concatenate((sol,FrenadoSolucion(t[-1],[sol[-1,0],sol[-1,1]])),axis=0)\n",
    "    return sol"
   ]
  },
  {
   "cell_type": "markdown",
   "metadata": {},
   "source": [
    "Analisis"
   ]
  },
  {
   "cell_type": "markdown",
   "metadata": {},
   "source": [
    "El objetivo de este taller es desarrollar un modelo simplificado de un kart electrico, adicionalmente se realizaron simulaciones de arrancado hasta llegar a velocidad maxima y posteriormente frenado hasta velocidad 0. Dichas simulaciones se realizaron variando la relacion de transmision, se usaron las siguientes relaciones:"
   ]
  },
  {
   "cell_type": "code",
   "execution_count": 90,
   "metadata": {
    "scrolled": true
   },
   "outputs": [
    {
     "data": {
      "text/plain": [
       "[1.1333, 1.3852, 1.637, 1.8889, 2.1407, 2.3926, 2.6444, 2.8963, 3.1481, 3.4]"
      ]
     },
     "execution_count": 90,
     "metadata": {},
     "output_type": "execute_result"
    }
   ],
   "source": [
    "NGS"
   ]
  },
  {
   "cell_type": "code",
   "execution_count": null,
   "metadata": {
    "scrolled": false
   },
   "outputs": [
    {
     "name": "stderr",
     "output_type": "stream",
     "text": [
      "/home/nbuser/anaconda3_501/lib/python3.6/site-packages/ipykernel/__main__.py:36: VisibleDeprecationWarning: boolean index did not match indexed array along dimension 0; dimension is 2920800 but corresponding boolean dimension is 14604\n"
     ]
    },
    {
     "data": {
      "image/png": "[encoded data removed]",
      "text/plain": [
       "<matplotlib.figure.Figure at 0x7f22e155d8d0>"
      ]
     },
     "metadata": {},
     "output_type": "display_data"
    },
    {
     "data": {
      "image/png": "[encoded data removed]",
      "text/plain": [
       "<matplotlib.figure.Figure at 0x7f22e09517b8>"
      ]
     },
     "metadata": {},
     "output_type": "display_data"
    },
    {
     "name": "stdout",
     "output_type": "stream",
     "text": [
      "Relación de Transmisión = 1.1333 ;Masa = 152.0 kg ;Velocidad pico = 17.6524119151 m/s ;tiempo total =  71.75  s\n"
     ]
    }
   ],
   "source": [
    "for i in NGS:\n",
    "    t_in=0\n",
    "    x_0=0\n",
    "    v_0=0.1\n",
    "    c_ini = [x_0,v_0]\n",
    "    solArranque=ArranqueSolucion(t_in,c_ini,i,masa) #solucion del arranque\n",
    "\n",
    "    solArranque\n",
    "\n",
    "    t_inF=0\n",
    "    x_0F=solArranque[-1,0]\n",
    "    v_0F=solArranque[-1,1]\n",
    "    c_iniF = [x_0F,v_0F]#condiciones finales del arranque e iniciales del frenado\n",
    "    solFrenado=FrenadoSolucion(t_inF,c_iniF) #solucion del frenado\n",
    "\n",
    "    solTotal=concatenate((solArranque,solFrenado)) \n",
    "\n",
    "    acelArran=[]\n",
    "    for vel in solArranque[:,1]:\n",
    "        Mrod = frodadura(masa_eq,vel,theta)[1]\n",
    "        Crod = frodadura(masa_eq,vel,theta)[1]\n",
    "        farr = farrastre(vel)\n",
    "        fincli = finclinacion(masa_eq,theta)\n",
    "        acelArran=append(acelArran,(torque_curva(vangularmotor(vel))*ng*etaf/refc-4*Crod-farr-fincli)/(masa_eq+4*Mrod))\n",
    "    acelFrena=[]\n",
    "    for vel in solFrenado[:,1]:\n",
    "        Mfre = Ffrenado(masa_eq,vel,theta,mu)[1]\n",
    "        Cfre = Ffrenado(masa_eq,vel,theta,mu)[1]\n",
    "        farr = farrastre(vel)\n",
    "        fincli = finclinacion(masa_eq,theta)\n",
    "        acelFrena=append(acelFrena,(Cfre-farr-fincli)/(masa_eq+Mfre))\n",
    "    #Frame\n",
    "    data=pd.DataFrame=({'Tiempo':arange(0,len(solTotal[:,0]),deltat),'Posicion':solTotal[:,0],'Velocidad':solTotal[:,1]})\n",
    "\n",
    "    #plot\n",
    "    t=data['Tiempo'][data['Velocidad']>=0]\n",
    "    posiciones=data['Posicion'][data['Velocidad']>=0]\n",
    "    velocidades=data['Velocidad'][data['Velocidad']>=0]\n",
    "\n",
    "    #grafica posicion y velocidad\n",
    "    fig,aux1=subplots()\n",
    "    aux2=aux1.twinx()\n",
    "    aux1.plot(t,posiciones,'k-')\n",
    "    aux2.plot(t,velocidades,'r-')\n",
    "    aux1.set_xlabel('Tiempo [s]')\n",
    "    aux1.set_ylabel('Distancia [m]', color='k')\n",
    "    aux2.set_ylabel('Velocidad [m/s]', color='r')\n",
    "    grid()\n",
    "    title('Velocidad y Distancia')\n",
    "    plt.show()\n",
    "    #Acceleration\n",
    "    subplot(1,2,1)\n",
    "    plot(t[:len(acelArran)],acelArran)\n",
    "    grid()\n",
    "    title('Aceleracion en Arranque')\n",
    "    xlabel('Tiempo [s]')\n",
    "    ylabel('Aceleracion [m/$s^2$]')\n",
    "    subplot(1,2,2)\n",
    "    plot(t[:len(acelFrena)],acelFrena)\n",
    "    grid()\n",
    "    title('Aceleracion en Frenado')\n",
    "    xlabel('Tiempo [s]')\n",
    "    ylabel('Aceleracion [m/$s^2$]')\n",
    "    plt.show()\n",
    "    print('Relación de Transmisión =',i,';Masa =',masa,'kg ;Velocidad pico =',solArranque[-1,1],'m/s ;tiempo total = ',t[-1],' s')\n",
    "\n",
    "    \n",
    "  "
   ]
  },
  {
   "cell_type": "code",
   "execution_count": null,
   "metadata": {},
   "outputs": [],
   "source": [
    "#Torque\n",
    "omega=np.linspace(4,1000,50)\n",
    "T=[]\n",
    "for w in omega:\n",
    "    T=np.append(T,torque_curva(w))\n",
    "omega=omega*(60/(2*np.pi))\n",
    "plt.plot(omega,T)\n",
    "plt.grid()\n",
    "plt.title('Torque')\n",
    "plt.xlabel('Velocidad angular[RPM]')\n",
    "plt.ylabel('Torque [Nm]')\n",
    "plt.xlim(0, 5000)\n",
    "plt.show()\n",
    "print('Torque máximo alcanzado =',max(T),'Nm')"
   ]
  },
  {
   "cell_type": "code",
   "execution_count": 79,
   "metadata": {},
   "outputs": [],
   "source": [
    "def acel(vel,ng):\n",
    "    xx,vel = velv\n",
    "    ax=0\n",
    "    frod = frodadura(vel,ax)\n",
    "    farr = farrastre(vel)\n",
    "    fincli = finclinacion(theta)\n",
    "    return [vel,(torque_curva(vangularmotor(vel))*ng*etaf/refc-frod-farr-fincli)/masa_eq] # para solucionar\n"
   ]
  },
  {
   "cell_type": "code",
   "execution_count": 80,
   "metadata": {},
   "outputs": [],
   "source": [
    "def potencia(omeg, vmax):\n",
    "    om=(5000*omeg/vmax)\n",
    "    om[om>5000]=5000\n",
    "    P=3.037((-0.00000004564538677*om**3)+(0.0001056995459*om**2)+(1.53209191*om)-1.895523696)\n",
    "    return P"
   ]
  },
  {
   "cell_type": "code",
   "execution_count": 81,
   "metadata": {
    "scrolled": true
   },
   "outputs": [
    {
     "data": {
      "image/png": "[encoded data removed]",
      "text/plain": [
       "<matplotlib.figure.Figure at 0x7f22e09cb3c8>"
      ]
     },
     "metadata": {},
     "output_type": "display_data"
    }
   ],
   "source": [
    "w=linspace(1,1000,500)\n",
    "torque=torque_curva(w)\n",
    "w=w*(60/(2*np.pi))\n",
    "plot(w,torque,'-g')\n",
    "plt.xlabel('Velocidad Angular (RPM)')\n",
    "plt.ylabel('Torque (Nm)')\n",
    "plt.xlim(0, 5000)\n",
    "grid(True)"
   ]
  },
  {
   "cell_type": "code",
   "execution_count": 82,
   "metadata": {},
   "outputs": [],
   "source": [
    "def graficarPosiYVel(sol,t):\n",
    "    \n",
    "    plot(t, sol[:, 0], 'g')\n",
    "    xlabel('Tiempo (s)')\n",
    "    ylabel('Distancia (m)',color='g')\n",
    "    twinx()\n",
    "    \n",
    "    v=sol[:,1]\n",
    "    v[v<0]=0\n",
    "    plt.plot(t, v*3.6, 'b')\n",
    "    ylabel('Velocidad (Km/h)',color='b')\n",
    "\n",
    "    plt.grid()\n"
   ]
  },
  {
   "cell_type": "code",
   "execution_count": null,
   "metadata": {},
   "outputs": [],
   "source": [
    "graficarPosiYVel(ArranqueSolucion(0,[0,0.1],ng,masa),t)"
   ]
  },
  {
   "cell_type": "code",
   "execution_count": null,
   "metadata": {},
   "outputs": [],
   "source": [
    "def frenado(velv, t0):\n",
    "    xx, v = velv\n",
    "    vel=np.array(v)\n",
    "    ax=0\n",
    "    vel[vel<0]=0\n",
    "    Fd = w*mu*(l-a)/l\n",
    "    Ft = w*mu*(a/l)\n",
    "    ax=ac[-1]\n",
    "    Frod = frodadura(vel,ax)\n",
    "    Farr = farrastre(vel)\n",
    "    Fincli = finclinacion(theta)\n",
    "    fren = (-Fd-Ft-Farr-Frod-Fincli)/masa_eq\n",
    "    if vel<0:\n",
    "        fren=0\n",
    "    return vel, fren"
   ]
  },
  {
   "cell_type": "code",
   "execution_count": null,
   "metadata": {},
   "outputs": [],
   "source": [
    "vela"
   ]
  },
  {
   "cell_type": "code",
   "execution_count": null,
   "metadata": {},
   "outputs": [],
   "source": [
    "np.arange()"
   ]
  },
  {
   "cell_type": "code",
   "execution_count": null,
   "metadata": {},
   "outputs": [],
   "source": []
  }
 ],
 "metadata": {
  "kernelspec": {
   "display_name": "Python 3.6",
   "language": "python",
   "name": "python36"
  },
  "language_info": {
   "codemirror_mode": {
    "name": "ipython",
    "version": 3
   },
   "file_extension": ".py",
   "mimetype": "text/x-python",
   "name": "python",
   "nbconvert_exporter": "python",
   "pygments_lexer": "ipython3",
   "version": "3.6.3"
  }
 },
 "nbformat": 4,
 "nbformat_minor": 2
}
