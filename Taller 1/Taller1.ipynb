{
 "cells": [
  {
   "cell_type": "markdown",
   "metadata": {
    "collapsed": true
   },
   "source": [
    "Taller 1.\n",
    "\n",
    "Herraminetas Computacionales\n",
    "\n",
    "Camilo Santiago Castillo Lasso\n",
    "\n",
    "201412050"
   ]
  },
  {
   "cell_type": "markdown",
   "metadata": {
    "slideshow": {
     "slide_type": "fragment"
    }
   },
   "source": [
    "Se importan las librerias que seran usadas"
   ]
  },
  {
   "cell_type": "code",
   "execution_count": 1,
   "metadata": {},
   "outputs": [
    {
     "name": "stdout",
     "output_type": "stream",
     "text": [
      "Populating the interactive namespace from numpy and matplotlib\n"
     ]
    }
   ],
   "source": [
    "import os\n",
    "import pandas as pd\n",
    "from scipy import stats as st\n",
    "%pylab inline"
   ]
  },
  {
   "cell_type": "markdown",
   "metadata": {},
   "source": [
    "Funcion que retorna la serie IDEAM \n",
    "\n",
    "Parametros: nombre de la ciudad\n",
    "\n",
    "retorno: serie_IDEAM"
   ]
  },
  {
   "cell_type": "code",
   "execution_count": 2,
   "metadata": {},
   "outputs": [],
   "source": [
    "base_dir = os.path.join( '.','data')\n",
    "output_dir = os.path.join( '.','output')\n",
    "def serie_IDEAM(ciudad):\n",
    "    serie_csvIDEAM=os.path.join(base_dir,ciudad,'IDEAM'+'.csv')\n",
    "    serie_IDEAM=pd.read_csv(serie_csvIDEAM, sep=';',encoding='latin-1')\n",
    "    return serie_IDEAM"
   ]
  },
  {
   "cell_type": "markdown",
   "metadata": {},
   "source": [
    "Funcion que retorna la serie NREL \n",
    "\n",
    "Parametros: nombre de la ciudad\n",
    "\n",
    "retorno: serie_NREL"
   ]
  },
  {
   "cell_type": "code",
   "execution_count": 3,
   "metadata": {},
   "outputs": [],
   "source": [
    "def serie_NREL(ciudad):\n",
    "    serie_csvNREL=os.path.join(base_dir,ciudad,'NREL'+'.csv')\n",
    "    serie_NREL=pd.read_csv(serie_csvNREL, sep=';',encoding='latin-1')\n",
    "    return serie_NREL"
   ]
  },
  {
   "cell_type": "markdown",
   "metadata": {},
   "source": [
    "Funcion que retorna las series IDEAM y NREL.\n",
    "\n",
    "Parametros: nombre ciudad.\n",
    "\n",
    "retorna: serie_IDEAM, serie_NREL"
   ]
  },
  {
   "cell_type": "code",
   "execution_count": 4,
   "metadata": {},
   "outputs": [],
   "source": [
    "def darSeries(ciudad):\n",
    "    return serie_IDEAM(ciudad), serie_NREL(ciudad)"
   ]
  },
  {
   "cell_type": "markdown",
   "metadata": {},
   "source": [
    "Funcion que retorna la energia total en $kWh/m^2$ para cada mes de la serie horaria.\n",
    "\n",
    "Parametros: serie horaria.\n",
    "\n",
    "Retorna: serie con el total de energia y dias por mes"
   ]
  },
  {
   "cell_type": "code",
   "execution_count": 5,
   "metadata": {},
   "outputs": [],
   "source": [
    "def ghi_mensual(serie_horaria):\n",
    "    agnos = sorted(serie_horaria['AÑO'].unique())\n",
    "    ghi_df = pd.DataFrame(columns=[\"AÑO\", \"MES\", \"DIAS\", \"GHImes\"])\n",
    "    for agno in agnos:\n",
    "        for mes in range(1,13):\n",
    "            \n",
    "            nombre_energia = list(serie_horaria)[-1]\n",
    "            dias = sorted(serie_horaria[(serie_horaria['AÑO'] == agno) &\n",
    "                        (serie_horaria['MES'] == mes)][\"DIA\"].unique())\n",
    "            \n",
    "            ghi_mes = serie_horaria.loc[((serie_horaria[\"AÑO\"] == agno)\n",
    "                            & (serie_horaria[\"MES\"] == mes)),\n",
    "                                        nombre_energia].sum()/1000\n",
    "            \n",
    "            ghi_dict = {\"AÑO\":agno, \"MES\":mes, \"DIAS\":dias[-1],\n",
    "                        \"GHImes\":ghi_mes}\n",
    "            ghi_df = ghi_df.append(ghi_dict, ignore_index=True)\n",
    "            \n",
    "    return ghi_df"
   ]
  },
  {
   "cell_type": "markdown",
   "metadata": {},
   "source": [
    "Funcion que calcula el promedio de energia diario mensual para la serie.\n",
    "\n",
    "Parametros: Serie mensual.\n",
    "\n",
    "Retorna: Serie con el promedio diaria mensual de energia en $kWh/m^2$."
   ]
  },
  {
   "cell_type": "code",
   "execution_count": 6,
   "metadata": {},
   "outputs": [],
   "source": [
    "def ghi_dia(serie_ghi_mensual):\n",
    "    agnos = sorted(serie_ghi_mensual['AÑO'].unique())\n",
    "    ghi_df = pd.DataFrame(columns=[\"AÑO\", \"MES\", \"GHIdiario\"])\n",
    "    for agno in agnos:\n",
    "        for mes in range(1,13):\n",
    "            \n",
    "            dias = serie_ghi_mensual.loc[((serie_ghi_mensual[\"AÑO\"] == agno)\n",
    "                            & (serie_ghi_mensual[\"MES\"] == mes))\n",
    "                                         ,\"DIAS\"].item()\n",
    "            \n",
    "            ghi_diario = serie_ghi_mensual.loc[(\n",
    "                (serie_ghi_mensual[\"AÑO\"] == agno)\n",
    "                            & (serie_ghi_mensual[\"MES\"] == mes)),\n",
    "                \"GHImes\"].item()/dias\n",
    "            \n",
    "            ghi_dict = {\"AÑO\":agno, \"MES\":mes, \"GHIdiario\":ghi_diario}\n",
    "            ghi_df = ghi_df.append(ghi_dict, ignore_index=True)\n",
    "            \n",
    "    return ghi_df"
   ]
  },
  {
   "cell_type": "markdown",
   "metadata": {},
   "source": [
    "Funcion que calcula el promedio de energia diario mensual a partir de una serie horaria.\n",
    "\n",
    "Parametros: serie horaria\n",
    "\n",
    "Retorna: serie con el promedio diario mensual."
   ]
  },
  {
   "cell_type": "code",
   "execution_count": 7,
   "metadata": {},
   "outputs": [],
   "source": [
    "def promDiaMen(serieHoraria):\n",
    "        \n",
    "    ghiMensual=ghi_mensual(serieHoraria)\n",
    "    ghiDiario=ghi_dia(ghiMensual)\n",
    "    datos=sorted(ghiDiario['GHIdiario'])\n",
    "    return datos"
   ]
  },
  {
   "cell_type": "markdown",
   "metadata": {},
   "source": [
    "Funcion que realiza una grafica de la distribucion de la energia mensula promedio a partir de una serie horaria.\n",
    "\n",
    "Parametros: serie horaria, nombre de la serie, color de la serie"
   ]
  },
  {
   "cell_type": "code",
   "execution_count": 8,
   "metadata": {},
   "outputs": [],
   "source": [
    "def graficarDistribucionDeEnergia(serieHoraria, nombre, color, datosIdeam):\n",
    "\n",
    "    datos=promDiaMen(serieHoraria)\n",
    "    pylab.xlabel(\"Datos\")\n",
    "    pylab.ylabel(\"Energía/Energía Base IDEAM\")\n",
    "    numdatos = range(len(datos))\n",
    "    pylab.plot(numdatos,datos/datosIdeam[0],color, label=nombre)\n",
    "    pylab.legend(loc='upper left')"
   ]
  },
  {
   "cell_type": "markdown",
   "metadata": {},
   "source": [
    "Prueba de el funcionamineto de las funciones planteadas."
   ]
  },
  {
   "cell_type": "code",
   "execution_count": 9,
   "metadata": {},
   "outputs": [
    {
     "data": {
      "image/png": "[encoded data removed]",
      "text/plain": [
       "<matplotlib.figure.Figure at 0x7f82e490f7b8>"
      ]
     },
     "metadata": {},
     "output_type": "display_data"
    }
   ],
   "source": [
    "ideam, nrel=darSeries('Valledupar')\n",
    "datosIdeam=promDiaMen(ideam)\n",
    "graficarDistribucionDeEnergia(ideam, 'IDEAM','-k',datosIdeam)\n",
    "graficarDistribucionDeEnergia(nrel, 'NREL','-g',datosIdeam)"
   ]
  },
  {
   "cell_type": "markdown",
   "metadata": {},
   "source": [
    "Funcion que calcula la enerergia que se obtendra el 99% de las veces a partir de una serie horaria.\n",
    "\n",
    "Parametros: serie horaria.\n",
    "\n",
    "Retorna: valor de la ENFICC"
   ]
  },
  {
   "cell_type": "code",
   "execution_count": 10,
   "metadata": {},
   "outputs": [],
   "source": [
    "def ENFICC(serieHoraria):\n",
    "    percentil=0.01\n",
    "    \n",
    "    ghiMensual=ghi_mensual(serieHoraria)\n",
    "    ghiDiario=ghi_dia(ghiMensual)\n",
    "    \n",
    "    enficc=ghiDiario.quantile(q=percentil, numeric_only=True)['GHIdiario']\n",
    "    return enficc"
   ]
  },
  {
   "cell_type": "markdown",
   "metadata": {},
   "source": [
    "Funcion que corta de un dataFrame los meses de un intervalo de años indicado\n",
    "\n",
    "Parametros: serie, año Inicio, año Fin, mes de inicio, mes de fin\n",
    "\n",
    "Retorna: serie cortada\n"
   ]
  },
  {
   "cell_type": "code",
   "execution_count": 11,
   "metadata": {},
   "outputs": [],
   "source": [
    "\n",
    "def cortar(serie, añoInicio, añoFin, mesesInicio, mesesFin):\n",
    "        if(añoInicio == añoFin) & (mesesFin >= mesesInicio):\n",
    "            serie = serie[(serie['AÑO']==añoInicio) & (serie['MES']>=mesesInicio) & (serie['MES']<=mesesFin)]\n",
    "            \n",
    "        if(añoInicio != añoFin):\n",
    "            serie_1 = serie[(serie['AÑO']==añoInicio) & (serie['MES']>=mesesInicio)]\n",
    "            serie_2= serie[(serie['AÑO']>añoInicio)&(serie['AÑO']<añoFin)]\n",
    "            serie_3 = serie[(serie['AÑO']==añoFin) & (serie['MES']<=mesesFin)]\n",
    "            serie = pd.concat([serie_1, serie_2, serie_3])\n",
    "            \n",
    "        if(añoFin < añoInicio):\n",
    "            \n",
    "            serie = 'El año final no puede ser menor al año inicial'\n",
    "        return serie\n",
    "\n",
    "\n"
   ]
  },
  {
   "cell_type": "markdown",
   "metadata": {},
   "source": [
    "Funcion que calcula la media y la desviacion estandar poblacional a partir de una columna de datos.\n",
    "\n",
    "Parametros: columna de la serie de datos.\n",
    "\n",
    "Retorna: media y desviacion estandar poblacional."
   ]
  },
  {
   "cell_type": "code",
   "execution_count": 12,
   "metadata": {},
   "outputs": [],
   "source": [
    "def prom_desv(ColumnaSerie):\n",
    "    return np.mean(ColumnaSerie), np.std(ColumnaSerie)"
   ]
  },
  {
   "cell_type": "markdown",
   "metadata": {},
   "source": [
    "Funcion que ajusta una serie larga a partir de una serie corta de refencia.\n",
    "\n",
    "Parametros: serie corta, serie larga\n",
    "\n",
    "Retorna: serie larga con el ajuste de curva realizado"
   ]
  },
  {
   "cell_type": "code",
   "execution_count": 13,
   "metadata": {},
   "outputs": [],
   "source": [
    "def mcp(seCorta, seLarga, seLargaCort):\n",
    "    mu_y, desv_y=prom_desv(seCorta)\n",
    "    mu_x, desv_x=prom_desv(seLargaCort)\n",
    "    y=(mu_y-(desv_y/desv_x)*mu_x)+(desv_y/desv_x)*seLarga\n",
    "    y=y.clip(lower=0)\n",
    "    return y"
   ]
  },
  {
   "cell_type": "markdown",
   "metadata": {},
   "source": [
    "Funcion que calcula el enficc de ideam, nrel y la serie corregida a partir de las especificaciones de fecha que se hacen para el ajuste de la serie corregida\n",
    "\n",
    "-Parametros: ciudad, año inicio, año fin, mes inicio, mes fin\n",
    "\n",
    "-Retorna:enficc ideam, enficc nrel, enficc serie corregida"
   ]
  },
  {
   "cell_type": "code",
   "execution_count": 14,
   "metadata": {},
   "outputs": [],
   "source": [
    "def comENFICC(ciudad,añoInicio,añoFin,mesesInicio,mesefin):\n",
    "    ideam,nrel=darSeries(ciudad)\n",
    "    enficcIdema=ENFICC(ideam)\n",
    "    enficcNrel=ENFICC(nrel)\n",
    "    ideamCor=cortar(ideam,añoInicio,añoFin,meseInicio,meseFin)\n",
    "    nrelCor=cortar(nrel,añoInicio,añoFin,meseInicio,mesesFin)\n",
    "    serie=mcp(ideamCor['IDEAM'],nrel['NREL'],nrelCor['NREL'])\n",
    "    nuevaSerie=nrel\n",
    "    nuevaSerie['NREL']=serie\n",
    "    enficcSerie=ENFICC(nuevaSerie)\n",
    "    return enficcIdema,enficcNrel,enficcSerie"
   ]
  },
  {
   "cell_type": "markdown",
   "metadata": {},
   "source": [
    "Funcion que a partir de un nombre de ciudad y un numero de meses grafica la distribucion de energia corregida, del ideam y del nrel.\n",
    "\n",
    "Parametros: nombre ciudad,añoInicio del corte, año de fin del corte, mdes de inicio del corte y mes de fin del corte."
   ]
  },
  {
   "cell_type": "code",
   "execution_count": 15,
   "metadata": {},
   "outputs": [],
   "source": [
    "def graficarPrediccion(ciudad, añoInicio, añoFin, mesesInicio, mesesFin, nombreSerie,color):\n",
    "    ideam, nrel=darSeries(ciudad)\n",
    "    ideamCortada=cortar(ideam,añoInicio,añoFin,mesesInicio,mesesFin)['IDEAM'] \n",
    "    cCorregida=mcp(ideamCortada,nrel['NREL'],cortar(nrel,añoInicio,añoFin,mesesInicio,mesesFin)['NREL'])\n",
    "    datosIdeam=promDiaMen(ideam)\n",
    "    graficarDistribucionDeEnergia(nrel,'vieja','-r',datosIdeam)\n",
    "    graficarDistribucionDeEnergia(ideam,'IDEAM','-g',datosIdeam)\n",
    "    nuevaSerie=nrel\n",
    "    nuevaSerie['NREL']=cCorregida\n",
    "    graficarDistribucionDeEnergia(nuevaSerie,nombreSerie,color,datosIdeam)\n",
    "\n"
   ]
  },
  {
   "cell_type": "code",
   "execution_count": 16,
   "metadata": {},
   "outputs": [
    {
     "data": {
      "image/png": "[encoded data removed]",
      "text/plain": [
       "<matplotlib.figure.Figure at 0x7f82e45f40b8>"
      ]
     },
     "metadata": {},
     "output_type": "display_data"
    }
   ],
   "source": [
    "figure(1)\n",
    "graficarPrediccion('Cali',2015,2016,3,6,'2015/03-2016/06','-m')\n",
    "\n",
    "graficarPrediccion('Cali',2007,2010,3,6,'2007/03-2010/06', '-c')"
   ]
  },
  {
   "cell_type": "markdown",
   "metadata": {},
   "source": [
    "Funcion que calcula el mean bias(MB) a partir de dos series cortadas\n",
    "\n",
    "Parametros: serie satelital cortada, serie de tierra cortada\n",
    "\n",
    "retorna: MB, serie nrel para calcular el mean bias relativo"
   ]
  },
  {
   "cell_type": "code",
   "execution_count": 17,
   "metadata": {},
   "outputs": [],
   "source": [
    "def MB(serieSat,serieTier):\n",
    "\n",
    "    N=len(serieSat)\n",
    "    rest=array(serieSat)-array(serieTier)\n",
    "    suma=sum(rest)\n",
    "    return suma/N"
   ]
  },
  {
   "cell_type": "markdown",
   "metadata": {},
   "source": [
    "Funcion que calcula el mean bias realtivo (rMB) a partir de dos series cortadas\n",
    "\n",
    "Parametros: serie satelital cortada, serie tierra cortada\n",
    "\n",
    "retorna: rMB"
   ]
  },
  {
   "cell_type": "code",
   "execution_count": 18,
   "metadata": {},
   "outputs": [],
   "source": [
    "def rMB(serieSat,serieTier):\n",
    "    mb=MB(serieSat,serieTier)\n",
    "    suma=sum(serieTier)\n",
    "    N=len(serieTier)\n",
    "    div=suma/N\n",
    "    r=mb/div\n",
    "    return r"
   ]
  },
  {
   "cell_type": "markdown",
   "metadata": {},
   "source": [
    "Funcion que calcula el root mean square deviation (RMSD)\n",
    "\n",
    "Parametros: ciudad, año, mes de inicio, mes de fin\n",
    "\n",
    "retorna: RMSD, serie nrel\n"
   ]
  },
  {
   "cell_type": "code",
   "execution_count": 19,
   "metadata": {},
   "outputs": [],
   "source": [
    "def RMSD(serieSat,serieTierra):\n",
    "\n",
    "    N=len(serieSat)\n",
    "    rest=(array(serieSat)-array(serieTierra))**2\n",
    "    suma=sum(rest)\n",
    "    div=suma/N\n",
    "    sq=div**(.5)\n",
    "    return sq"
   ]
  },
  {
   "cell_type": "markdown",
   "metadata": {},
   "source": [
    "Funcion que calcula el root mean square deviation relativo(RMSD)\n",
    "\n",
    "Parametros: ciudad, año, mes de inicio, mes de fin\n",
    "\n",
    "retorna: rRMSD"
   ]
  },
  {
   "cell_type": "code",
   "execution_count": 20,
   "metadata": {},
   "outputs": [],
   "source": [
    "def rRMSD(serieSat,serieTier):\n",
    "    rmsd=RMSD(serieSat,serieTier)\n",
    "    suma=sum(serieTier)\n",
    "    N=len(serieTier)\n",
    "    div=suma/N\n",
    "    r=rmsd/div\n",
    "    return r\n"
   ]
  },
  {
   "cell_type": "markdown",
   "metadata": {},
   "source": [
    "Funcion que calcula el KSI en un año y lapso de meses igual para una ciudad\n",
    "\n",
    "Parametros: ciudad, año, mes inicio, mes de fin"
   ]
  },
  {
   "cell_type": "code",
   "execution_count": 21,
   "metadata": {},
   "outputs": [],
   "source": [
    "def KSI(serieSat,serieTier):\n",
    "\n",
    "    return st.ks_2samp(serieSat,serieTier)"
   ]
  },
  {
   "cell_type": "markdown",
   "metadata": {},
   "source": [
    "Funcion que calcula el rMB de ideam, nrel y la serie corregida a partir de las especificaciones de fecha que se hacen para el ajuste de la serie corregida\n",
    "\n",
    "-Parametros: ciudad, (año inicio, año fin, mes inicio, mes fin (el lapso de tiempo debe de ser de 10 años)),año  de Inicio de la Correccion,año  de Fin Correccion, meses Icinio Correccion, meses Fin Correccion\n",
    "\n",
    "-Retorna:rMB nrel-ideam, rMB corregida-ideam"
   ]
  },
  {
   "cell_type": "code",
   "execution_count": 22,
   "metadata": {},
   "outputs": [],
   "source": [
    "def comRMB(ciudad,añoInicioCor,añoFinCor,mesesIcinioCor,mesesFinCor,añoInicio,añoFin,mesesIcinio,mesesFin):\n",
    "    ideam,nrel=darSeries(ciudad)\n",
    "    nrelCor10=cortar(nrel,añoInicio,añoFin,mesesIcinio,mesesFin)\n",
    "    ideamCor10=cortar(ideam,añoInicio,añoFin,mesesIcinio,mesesFin)\n",
    "    rmbNrel=rMB(nrelCor10['NREL'],ideamCor10['IDEAM'])\n",
    "    \n",
    "    nrelCor=cortar(nrel,añoInicioCor,añoFinCor,mesesIcinioCor,mesesFinCor)\n",
    "    ideamCor=cortar(ideam,añoInicioCor,añoFinCor,mesesIcinioCor,mesesFinCor)\n",
    "    \n",
    "    seCorregida=mcp(ideamCor['IDEAM'],nrel['NREL'],nrelCor['NREL'])\n",
    "    nuevaSerie=nrel\n",
    "    nuevaSerie['NREL']=seCorregida\n",
    "    seCortada=cortar(nuevaSerie,añoInicio,añoFin,mesesIcinio,mesesFin)\n",
    "    rmbCorregida=rMB(seCortada['NREL'],ideamCor10['IDEAM'])\n",
    "    return rmbNrel,rmbCorregida"
   ]
  },
  {
   "cell_type": "markdown",
   "metadata": {},
   "source": [
    "Funcion que calcula el RMSD de ideam, nrel y la serie corregida a partir de las especificaciones de fecha que se hacen para el ajuste de la serie corregida\n",
    "\n",
    "-Parametros: ciudad, (año inicio, año fin, mes inicio, mes fin (el lapso de tiempo debe de ser de 10 años)),año  de Inicio de la Correccion,año  de Fin Correccion, meses Icinio Correccion, meses Fin Correccion\n",
    "\n",
    "-Retorna:RMSD nrel-ideam, RMSD corregida-ideam"
   ]
  },
  {
   "cell_type": "code",
   "execution_count": 23,
   "metadata": {},
   "outputs": [],
   "source": [
    "def comRMSD(ciudad,añoInicioCor,añoFinCor,mesesIcinioCor,mesesFinCor,añoInicio,añoFin,mesesIcinio,mesesFin):\n",
    "    ideam,nrel=darSeries(ciudad)\n",
    "    nrelCor10=cortar(nrel,añoInicio,añoFin,mesesIcinio,mesesFin)\n",
    "    ideamCor10=cortar(ideam,añoInicio,añoFin,mesesIcinio,mesesFin)\n",
    "    rmsdNrel=RMSD(nrelCor10['NREL'],ideamCor10['IDEAM'])\n",
    "    \n",
    "    nrelCor=cortar(nrel,añoInicioCor,añoFinCor,mesesIcinioCor,mesesFinCor)\n",
    "    ideamCor=cortar(ideam,añoInicioCor,añoFinCor,mesesIcinioCor,mesesFinCor)\n",
    "    \n",
    "    seCorregida=mcp(ideamCor['IDEAM'],nrel['NREL'],nrelCor['NREL'])\n",
    "    nuevaSerie=nrel\n",
    "    nuevaSerie['NREL']=seCorregida\n",
    "    seCortada=cortar(nuevaSerie,añoInicio,añoFin,mesesIcinio,mesesFin)\n",
    "    rmsdCorregida=RMSD(seCortada['NREL'],ideamCor10['IDEAM'])\n",
    "    return rmsdNrel,rmsdCorregida"
   ]
  },
  {
   "cell_type": "markdown",
   "metadata": {},
   "source": [
    "Funcion que calcula el rRMSD de ideam, nrel y la serie corregida a partir de las especificaciones de fecha que se hacen para el ajuste de la serie corregida\n",
    "\n",
    "-Parametros: ciudad, (año inicio, año fin, mes inicio, mes fin (el lapso de tiempo debe de ser de 10 años)),año  de Inicio de la Correccion,año  de Fin Correccion, meses Icinio Correccion, meses Fin Correccion\n",
    "\n",
    "-Retorna:rRMSD nrel-ideam, rRMSD corregida-ideam"
   ]
  },
  {
   "cell_type": "code",
   "execution_count": 24,
   "metadata": {},
   "outputs": [],
   "source": [
    "def comrRMSD(ciudad,añoInicioCor,añoFinCor,mesesIcinioCor,mesesFinCor,añoInicio,añoFin,mesesIcinio,mesesFin):\n",
    "    ideam,nrel=darSeries(ciudad)\n",
    "    nrelCor10=cortar(nrel,añoInicio,añoFin,mesesIcinio,mesesFin)\n",
    "    ideamCor10=cortar(ideam,añoInicio,añoFin,mesesIcinio,mesesFin)\n",
    "    rrmsdNrel=rRMSD(nrelCor10['NREL'],ideamCor10['IDEAM'])\n",
    "    \n",
    "    nrelCor=cortar(nrel,añoInicioCor,añoFinCor,mesesIcinioCor,mesesFinCor)\n",
    "    ideamCor=cortar(ideam,añoInicioCor,añoFinCor,mesesIcinioCor,mesesFinCor)\n",
    "    \n",
    "    seCorregida=mcp(ideamCor['IDEAM'],nrel['NREL'],nrelCor['NREL'])\n",
    "    nuevaSerie=nrel\n",
    "    nuevaSerie['NREL']=seCorregida\n",
    "    seCortada=cortar(nuevaSerie,añoInicio,añoFin,mesesIcinio,mesesFin)\n",
    "    rrmsdCorregida=rRMSD(seCortada['NREL'],ideamCor10['IDEAM'])\n",
    "    return rrmsdNrel,rrmsdCorregida\n",
    "    \n",
    "    "
   ]
  },
  {
   "cell_type": "code",
   "execution_count": 36,
   "metadata": {},
   "outputs": [
    {
     "data": {
      "text/plain": [
       "(0.75008525062939313, 0.63055411702004915)"
      ]
     },
     "execution_count": 36,
     "metadata": {},
     "output_type": "execute_result"
    }
   ],
   "source": [
    "comrRMSD('Cali',2010,2011,3,4,2007,2014,1,12)"
   ]
  },
  {
   "cell_type": "code",
   "execution_count": null,
   "metadata": {},
   "outputs": [],
   "source": []
  }
 ],
 "metadata": {
  "kernelspec": {
   "display_name": "Python 3.6",
   "language": "python",
   "name": "python36"
  },
  "language_info": {
   "codemirror_mode": {
    "name": "ipython",
    "version": 3
   },
   "file_extension": ".py",
   "mimetype": "text/x-python",
   "name": "python",
   "nbconvert_exporter": "python",
   "pygments_lexer": "ipython3",
   "version": "3.6.3"
  }
 },
 "nbformat": 4,
 "nbformat_minor": 2
}
