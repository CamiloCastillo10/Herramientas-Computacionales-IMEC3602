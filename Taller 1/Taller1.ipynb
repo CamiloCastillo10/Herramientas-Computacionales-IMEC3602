{
 "cells": [
  {
   "cell_type": "markdown",
   "metadata": {
    "collapsed": true
   },
   "source": [
    "Taller 1.\n",
    "\n",
    "Herraminetas Computacionales\n",
    "\n",
    "Camilo Santiago Castillo Lasso\n",
    "\n",
    "201412050"
   ]
  },
  {
   "cell_type": "raw",
   "metadata": {
    "slideshow": {
     "slide_type": "fragment"
    }
   },
   "source": [
    "Se importan las librerias que seran usadas"
   ]
  },
  {
   "cell_type": "code",
   "execution_count": 1,
   "metadata": {},
   "outputs": [
    {
     "name": "stdout",
     "output_type": "stream",
     "text": [
      "Populating the interactive namespace from numpy and matplotlib\n"
     ]
    }
   ],
   "source": [
    "import os\n",
    "import pandas as pd\n",
    "%pylab inline"
   ]
  },
  {
   "cell_type": "markdown",
   "metadata": {},
   "source": [
    "Funcion que retorna la serie IDEAM \n",
    "\n",
    "Parametros: nombre de la ciudad\n",
    "\n",
    "retorno: serie_IDEAM"
   ]
  },
  {
   "cell_type": "code",
   "execution_count": 14,
   "metadata": {},
   "outputs": [],
   "source": [
    "base_dir = os.path.join( '.','data')\n",
    "output_dir = os.path.join( '.','output')\n",
    "def serie_IDEAM(ciudad):\n",
    "    serie_csvIDEAM=os.path.join(base_dir,ciudad,'IDEAM'+'.csv')\n",
    "    serie_IDEAM=pd.read_csv(serie_csvIDEAM, sep=';',encoding='latin-1')\n",
    "    return serie_IDEAM"
   ]
  },
  {
   "cell_type": "markdown",
   "metadata": {},
   "source": [
    "Funcion que retorna la serie NREL \n",
    "\n",
    "Parametros: nombre de la ciudad\n",
    "\n",
    "retorno: serie_NREL"
   ]
  },
  {
   "cell_type": "code",
   "execution_count": 15,
   "metadata": {},
   "outputs": [],
   "source": [
    "def serie_NREL(ciudad):\n",
    "    serie_csvNREL=os.path.join(base_dir,ciudad,'NREL'+'.csv')\n",
    "    serie_NREL=pd.read_csv(serie_csvNREL, sep=';',encoding='latin-1')\n",
    "    return serie_NREL"
   ]
  },
  {
   "cell_type": "markdown",
   "metadata": {},
   "source": [
    "Funcion que retorna las series IDEAM y NREL.\n",
    "\n",
    "Parametros: nombre ciudad.\n",
    "\n",
    "retorna: serie_IDEAM, serie_NREL"
   ]
  },
  {
   "cell_type": "code",
   "execution_count": 16,
   "metadata": {},
   "outputs": [],
   "source": [
    "def darSeries(ciudad):\n",
    "    return serie_IDEAM(ciudad), serie_NREL(ciudad)"
   ]
  },
  {
   "cell_type": "markdown",
   "metadata": {},
   "source": [
    "Funcion que retorna la energia total en $kWh/m^2$ para cada mes de la serie horaria.\n",
    "\n",
    "Parametros: serie horaria.\n",
    "\n",
    "Retorna: serie con el total de energia y dias por mes"
   ]
  },
  {
   "cell_type": "code",
   "execution_count": 26,
   "metadata": {},
   "outputs": [],
   "source": [
    "def ghi_mensual(serie_horaria):\n",
    "    agnos = sorted(serie_horaria['AÑO'].unique())\n",
    "    ghi_df = pd.DataFrame(columns=[\"AÑO\", \"MES\", \"DIAS\", \"GHImes\"])\n",
    "    for agno in agnos:\n",
    "        for mes in range(1,13):\n",
    "            \n",
    "            nombre_energia = list(serie_horaria)[-1]\n",
    "            dias = sorted(serie_horaria[(serie_horaria['AÑO'] == agno) &\n",
    "                        (serie_horaria['MES'] == mes)][\"DIA\"].unique())\n",
    "            \n",
    "            ghi_mes = serie_horaria.loc[((serie_horaria[\"AÑO\"] == agno)\n",
    "                            & (serie_horaria[\"MES\"] == mes)),\n",
    "                                        nombre_energia].sum()/1000\n",
    "            \n",
    "            ghi_dict = {\"AÑO\":agno, \"MES\":mes, \"DIAS\":dias[-1],\n",
    "                        \"GHImes\":ghi_mes}\n",
    "            ghi_df = ghi_df.append(ghi_dict, ignore_index=True)\n",
    "            \n",
    "    return ghi_df"
   ]
  },
  {
   "cell_type": "markdown",
   "metadata": {},
   "source": [
    "Funcion que calcula el promedio de energia diario mensual para la serie.\n",
    "\n",
    "Parametros: Serie mensual.\n",
    "\n",
    "Retorna: Serie con el promedio diaria mensual de energia en $kWh/m^2$."
   ]
  },
  {
   "cell_type": "code",
   "execution_count": 27,
   "metadata": {},
   "outputs": [],
   "source": [
    "def ghi_dia(serie_ghi_mensual):\n",
    "    agnos = sorted(serie_ghi_mensual['AÑO'].unique())\n",
    "    ghi_df = pd.DataFrame(columns=[\"AÑO\", \"MES\", \"GHIdiario\"])\n",
    "    for agno in agnos:\n",
    "        for mes in range(1,13):\n",
    "            \n",
    "            dias = serie_ghi_mensual.loc[((serie_ghi_mensual[\"AÑO\"] == agno)\n",
    "                            & (serie_ghi_mensual[\"MES\"] == mes))\n",
    "                                         ,\"DIAS\"].item()\n",
    "            \n",
    "            ghi_diario = serie_ghi_mensual.loc[(\n",
    "                (serie_ghi_mensual[\"AÑO\"] == agno)\n",
    "                            & (serie_ghi_mensual[\"MES\"] == mes)),\n",
    "                \"GHImes\"].item()/dias\n",
    "            \n",
    "            ghi_dict = {\"AÑO\":agno, \"MES\":mes, \"GHIdiario\":ghi_diario}\n",
    "            ghi_df = ghi_df.append(ghi_dict, ignore_index=True)\n",
    "            \n",
    "    return ghi_df"
   ]
  },
  {
   "cell_type": "markdown",
   "metadata": {},
   "source": [
    "Funcion que realiza una grafica de la distribucion de la energia mensula promedio a partir de una serie horaria.\n",
    "\n",
    "Parametros: serie horaria, nombre de la serie, color de la serie"
   ]
  },
  {
   "cell_type": "code",
   "execution_count": 35,
   "metadata": {},
   "outputs": [],
   "source": [
    "def graficarDistribucionDeEnergia(serieHoraria, nombre, color):\n",
    "    \n",
    "    ghiMensual=ghi_mensual(serieHoraria)\n",
    "    ghiDiario=ghi_dia(ghiMensual)\n",
    "    datos=sorted(ghiDiario['GHIdiario'])\n",
    "    \n",
    "    pylab.xlabel(\"Datos\")\n",
    "    pylab.ylabel(\"Energía/Energía Base IDEAM\")\n",
    "    numdatos = range(len(datos))\n",
    "    pylab.plot(numdatos,datos/datos[0],color, label=nombre)\n",
    "    pylab.legend(loc='upper left')"
   ]
  },
  {
   "cell_type": "markdown",
   "metadata": {},
   "source": [
    "Prueba de el funcionamineto de las funciones planteadas."
   ]
  },
  {
   "cell_type": "code",
   "execution_count": 37,
   "metadata": {},
   "outputs": [
    {
     "data": {
      "image/png": "[encoded data removed]",
      "text/plain": [
       "<matplotlib.figure.Figure at 0x7f55d4ac5358>"
      ]
     },
     "metadata": {},
     "output_type": "display_data"
    }
   ],
   "source": [
    "ideam, nrel=darSeries('Valledupar')\n",
    "graficarDistribucionDeEnergia(ideam, 'IDEAM','-k')\n",
    "graficarDistribucionDeEnergia(nrel, 'NREL','-g')"
   ]
  },
  {
   "cell_type": "markdown",
   "metadata": {},
   "source": [
    "Funcion que calcula la enerergia que se obtendra el 99% de las veces a partir de una serie horaria.\n",
    "\n",
    "Parametros: serie horaria.\n",
    "\n",
    "Retorna: valor de la ENFICC"
   ]
  },
  {
   "cell_type": "code",
   "execution_count": 40,
   "metadata": {},
   "outputs": [],
   "source": [
    "def percentil1(serieHoraria):\n",
    "    percentil=0.01\n",
    "    \n",
    "    ghiMensual=ghi_mensual(serieHoraria)\n",
    "    ghiDiario=ghi_dia(ghiMensual)\n",
    "    \n",
    "    enficc=ghiDiario.quantile(q=percentil, numeric_only=True)['GHIdiario']\n",
    "    return enficc"
   ]
  },
  {
   "cell_type": "markdown",
   "metadata": {},
   "source": [
    "Funcion que calcula la media y la desviacion estandar poblacional a partir de una columna de datos.\n",
    "\n",
    "Parametros: columna de la serie de datos.\n",
    "\n",
    "Retorna: media y desviacion estandar poblacional."
   ]
  },
  {
   "cell_type": "code",
   "execution_count": 43,
   "metadata": {},
   "outputs": [],
   "source": [
    "def prom_desv(ColumnaSerie):\n",
    "    return np.mean(ColumanSerie), np.std(ColumnaSerie)"
   ]
  },
  {
   "cell_type": "code",
   "execution_count": null,
   "metadata": {},
   "outputs": [],
   "source": []
  }
 ],
 "metadata": {
  "kernelspec": {
   "display_name": "Python 3.6",
   "language": "python",
   "name": "python36"
  },
  "language_info": {
   "codemirror_mode": {
    "name": "ipython",
    "version": 3
   },
   "file_extension": ".py",
   "mimetype": "text/x-python",
   "name": "python",
   "nbconvert_exporter": "python",
   "pygments_lexer": "ipython3",
   "version": "3.6.3"
  }
 },
 "nbformat": 4,
 "nbformat_minor": 2
}
