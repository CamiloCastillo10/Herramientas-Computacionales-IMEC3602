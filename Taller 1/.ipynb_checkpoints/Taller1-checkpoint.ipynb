{
 "cells": [
  {
   "cell_type": "markdown",
   "metadata": {
    "collapsed": true
   },
   "source": [
    "Taller 1.\n",
    "\n",
    "Herraminetas Computacionales\n",
    "\n",
    "Camilo Santiago Castillo Lasso\n",
    "\n",
    "201412050"
   ]
  },
  {
   "cell_type": "markdown",
   "metadata": {
    "slideshow": {
     "slide_type": "fragment"
    }
   },
   "source": [
    "Se importan las librerias que seran usadas"
   ]
  },
  {
   "cell_type": "code",
   "execution_count": 3,
   "metadata": {},
   "outputs": [
    {
     "name": "stdout",
     "output_type": "stream",
     "text": [
      "Populating the interactive namespace from numpy and matplotlib\n"
     ]
    }
   ],
   "source": [
    "import os\n",
    "import pandas as pd\n",
    "%pylab inline"
   ]
  },
  {
   "cell_type": "markdown",
   "metadata": {},
   "source": [
    "Funcion que retorna la serie IDEAM \n",
    "\n",
    "Parametros: nombre de la ciudad\n",
    "\n",
    "retorno: serie_IDEAM"
   ]
  },
  {
   "cell_type": "code",
   "execution_count": 4,
   "metadata": {},
   "outputs": [],
   "source": [
    "base_dir = os.path.join( '.','data')\n",
    "output_dir = os.path.join( '.','output')\n",
    "def serie_IDEAM(ciudad):\n",
    "    serie_csvIDEAM=os.path.join(base_dir,ciudad,'IDEAM'+'.csv')\n",
    "    serie_IDEAM=pd.read_csv(serie_csvIDEAM, sep=';',encoding='latin-1')\n",
    "    return serie_IDEAM"
   ]
  },
  {
   "cell_type": "markdown",
   "metadata": {},
   "source": [
    "Funcion que retorna la serie NREL \n",
    "\n",
    "Parametros: nombre de la ciudad\n",
    "\n",
    "retorno: serie_NREL"
   ]
  },
  {
   "cell_type": "code",
   "execution_count": 5,
   "metadata": {},
   "outputs": [],
   "source": [
    "def serie_NREL(ciudad):\n",
    "    serie_csvNREL=os.path.join(base_dir,ciudad,'NREL'+'.csv')\n",
    "    serie_NREL=pd.read_csv(serie_csvNREL, sep=';',encoding='latin-1')\n",
    "    return serie_NREL"
   ]
  },
  {
   "cell_type": "markdown",
   "metadata": {},
   "source": [
    "Funcion que retorna las series IDEAM y NREL.\n",
    "\n",
    "Parametros: nombre ciudad.\n",
    "\n",
    "retorna: serie_IDEAM, serie_NREL"
   ]
  },
  {
   "cell_type": "code",
   "execution_count": 6,
   "metadata": {},
   "outputs": [],
   "source": [
    "def darSeries(ciudad):\n",
    "    return serie_IDEAM(ciudad), serie_NREL(ciudad)"
   ]
  },
  {
   "cell_type": "markdown",
   "metadata": {},
   "source": [
    "Funcion que retorna la energia total en $kWh/m^2$ para cada mes de la serie horaria.\n",
    "\n",
    "Parametros: serie horaria.\n",
    "\n",
    "Retorna: serie con el total de energia y dias por mes"
   ]
  },
  {
   "cell_type": "code",
   "execution_count": 7,
   "metadata": {},
   "outputs": [],
   "source": [
    "def ghi_mensual(serie_horaria):\n",
    "    agnos = sorted(serie_horaria['AÑO'].unique())\n",
    "    ghi_df = pd.DataFrame(columns=[\"AÑO\", \"MES\", \"DIAS\", \"GHImes\"])\n",
    "    for agno in agnos:\n",
    "        for mes in range(1,13):\n",
    "            \n",
    "            nombre_energia = list(serie_horaria)[-1]\n",
    "            dias = sorted(serie_horaria[(serie_horaria['AÑO'] == agno) &\n",
    "                        (serie_horaria['MES'] == mes)][\"DIA\"].unique())\n",
    "            \n",
    "            ghi_mes = serie_horaria.loc[((serie_horaria[\"AÑO\"] == agno)\n",
    "                            & (serie_horaria[\"MES\"] == mes)),\n",
    "                                        nombre_energia].sum()/1000\n",
    "            \n",
    "            ghi_dict = {\"AÑO\":agno, \"MES\":mes, \"DIAS\":dias[-1],\n",
    "                        \"GHImes\":ghi_mes}\n",
    "            ghi_df = ghi_df.append(ghi_dict, ignore_index=True)\n",
    "            \n",
    "    return ghi_df"
   ]
  },
  {
   "cell_type": "markdown",
   "metadata": {},
   "source": [
    "Funcion que calcula el promedio de energia diario mensual para la serie.\n",
    "\n",
    "Parametros: Serie mensual.\n",
    "\n",
    "Retorna: Serie con el promedio diaria mensual de energia en $kWh/m^2$."
   ]
  },
  {
   "cell_type": "code",
   "execution_count": 8,
   "metadata": {},
   "outputs": [],
   "source": [
    "def ghi_dia(serie_ghi_mensual):\n",
    "    agnos = sorted(serie_ghi_mensual['AÑO'].unique())\n",
    "    ghi_df = pd.DataFrame(columns=[\"AÑO\", \"MES\", \"GHIdiario\"])\n",
    "    for agno in agnos:\n",
    "        for mes in range(1,13):\n",
    "            \n",
    "            dias = serie_ghi_mensual.loc[((serie_ghi_mensual[\"AÑO\"] == agno)\n",
    "                            & (serie_ghi_mensual[\"MES\"] == mes))\n",
    "                                         ,\"DIAS\"].item()\n",
    "            \n",
    "            ghi_diario = serie_ghi_mensual.loc[(\n",
    "                (serie_ghi_mensual[\"AÑO\"] == agno)\n",
    "                            & (serie_ghi_mensual[\"MES\"] == mes)),\n",
    "                \"GHImes\"].item()/dias\n",
    "            \n",
    "            ghi_dict = {\"AÑO\":agno, \"MES\":mes, \"GHIdiario\":ghi_diario}\n",
    "            ghi_df = ghi_df.append(ghi_dict, ignore_index=True)\n",
    "            \n",
    "    return ghi_df"
   ]
  },
  {
   "cell_type": "markdown",
   "metadata": {},
   "source": [
    "Funcion que calcula el promedio de energia diario mensual a partir de una serie horaria.\n",
    "\n",
    "Parametros: serie horaria\n",
    "\n",
    "Retorna: serie con el promedio diario mensual."
   ]
  },
  {
   "cell_type": "code",
   "execution_count": 9,
   "metadata": {},
   "outputs": [],
   "source": [
    "def promDiaMen(serieHoraria):\n",
    "        \n",
    "    ghiMensual=ghi_mensual(serieHoraria)\n",
    "    ghiDiario=ghi_dia(ghiMensual)\n",
    "    datos=sorted(ghiDiario['GHIdiario'])\n",
    "    return datos"
   ]
  },
  {
   "cell_type": "markdown",
   "metadata": {},
   "source": [
    "Funcion que realiza una grafica de la distribucion de la energia mensula promedio a partir de una serie horaria.\n",
    "\n",
    "Parametros: serie horaria, nombre de la serie, color de la serie"
   ]
  },
  {
   "cell_type": "code",
   "execution_count": 10,
   "metadata": {},
   "outputs": [],
   "source": [
    "def graficarDistribucionDeEnergia(serieHoraria, nombre, color, datosIdeam):\n",
    "\n",
    "    datos=promDiaMen(serieHoraria)\n",
    "    pylab.xlabel(\"Datos\")\n",
    "    pylab.ylabel(\"Energía/Energía Base IDEAM\")\n",
    "    numdatos = range(len(datos))\n",
    "    pylab.plot(numdatos,datos/datosIdeam[0],color, label=nombre)\n",
    "    pylab.legend(loc='upper left')"
   ]
  },
  {
   "cell_type": "markdown",
   "metadata": {},
   "source": [
    "Prueba de el funcionamineto de las funciones planteadas."
   ]
  },
  {
   "cell_type": "code",
   "execution_count": 11,
   "metadata": {},
   "outputs": [
    {
     "data": {
      "image/png": "[encoded data removed]",
      "text/plain": [
       "<matplotlib.figure.Figure at 0x7fdcd1799748>"
      ]
     },
     "metadata": {},
     "output_type": "display_data"
    }
   ],
   "source": [
    "ideam, nrel=darSeries('Valledupar')\n",
    "datosIdeam=promDiaMen(ideam)\n",
    "graficarDistribucionDeEnergia(ideam, 'IDEAM','-k',datosIdeam)\n",
    "graficarDistribucionDeEnergia(nrel, 'NREL','-g',datosIdeam)"
   ]
  },
  {
   "cell_type": "markdown",
   "metadata": {},
   "source": [
    "Funcion que calcula la enerergia que se obtendra el 99% de las veces a partir de una serie horaria.\n",
    "\n",
    "Parametros: serie horaria.\n",
    "\n",
    "Retorna: valor de la ENFICC"
   ]
  },
  {
   "cell_type": "code",
   "execution_count": 12,
   "metadata": {},
   "outputs": [],
   "source": [
    "def percentil1(serieHoraria):\n",
    "    percentil=0.01\n",
    "    \n",
    "    ghiMensual=ghi_mensual(serieHoraria)\n",
    "    ghiDiario=ghi_dia(ghiMensual)\n",
    "    \n",
    "    enficc=ghiDiario.quantile(q=percentil, numeric_only=True)['GHIdiario']\n",
    "    return enficc"
   ]
  },
  {
   "cell_type": "markdown",
   "metadata": {},
   "source": [
    "Funcion que extrae de un dataFrame el mes y año indicado\n",
    "\n",
    "Parametros: serie, año, mes de inicio, mes de fin\n",
    "\n",
    "Retorna: serie cortada"
   ]
  },
  {
   "cell_type": "code",
   "execution_count": 13,
   "metadata": {},
   "outputs": [],
   "source": [
    "def cort(serie,año,mesesInicio,mesesFin):\n",
    "    corta=serie[(serie['AÑO'] == año) &(serie['MES'] >= mesesInicio) &\n",
    "                        (serie['MES'] <= mesesFin)]\n",
    "\n",
    "    return corta"
   ]
  },
  {
   "cell_type": "markdown",
   "metadata": {},
   "source": [
    "Funcion que calcula la media y la desviacion estandar poblacional a partir de una columna de datos.\n",
    "\n",
    "Parametros: columna de la serie de datos.\n",
    "\n",
    "Retorna: media y desviacion estandar poblacional."
   ]
  },
  {
   "cell_type": "code",
   "execution_count": 14,
   "metadata": {},
   "outputs": [],
   "source": [
    "def prom_desv(ColumnaSerie):\n",
    "    return np.mean(ColumnaSerie), np.std(ColumnaSerie)"
   ]
  },
  {
   "cell_type": "markdown",
   "metadata": {},
   "source": [
    "Funcion que ajusta una serie larga a partir de una serie corta de refencia.\n",
    "\n",
    "Parametros: serie corta, serie larga\n",
    "\n",
    "Retorna: serie larga con el ajuste de curva realizado"
   ]
  },
  {
   "cell_type": "code",
   "execution_count": 61,
   "metadata": {},
   "outputs": [],
   "source": [
    "def mcp(seCorta, seLarga, seLargaCort):\n",
    "    mu_y, desv_y=prom_desv(seCorta)\n",
    "    mu_x, desv_x=prom_desv(seLargaCort)\n",
    "    y=(mu_y-(desv_y/desv_x)*mu_x)+(desv_y/desv_x)*seLarga\n",
    "    return y"
   ]
  },
  {
   "cell_type": "markdown",
   "metadata": {},
   "source": [
    "Ejemplo del ajuste con la ciudad de Valledupar utilizando los tres primeros meses $3meses *30dias * 24horas=2160$"
   ]
  },
  {
   "cell_type": "code",
   "execution_count": 16,
   "metadata": {},
   "outputs": [
    {
     "data": {
      "image/png": "[encoded data removed]",
      "text/plain": [
       "<matplotlib.figure.Figure at 0x7fdcd17419b0>"
      ]
     },
     "metadata": {},
     "output_type": "display_data"
    }
   ],
   "source": [
    "ideam,nrel=darSeries('Valledupar')\n",
    "corta=ideam['IDEAM']\n",
    "cCorregida=mcp(corta[:2160],nrel['NREL'])\n",
    "datosIdeam=promDiaMen(ideam)\n",
    "graficarDistribucionDeEnergia(nrel,'vieja','-r',datosIdeam)\n",
    "graficarDistribucionDeEnergia(ideam,'Corregida','-g',datosIdeam)\n",
    "nuevaSerie=nrel\n",
    "nuevaSerie['NREL']=cCorregida\n",
    "graficarDistribucionDeEnergia(nuevaSerie,'Corregida','-k',datosIdeam)"
   ]
  },
  {
   "cell_type": "markdown",
   "metadata": {},
   "source": [
    "Funcion que a partir de un nombre de ciudad y un numero de meses grafica la distribucion de energia corregida, del ideam y del nrel.\n",
    "\n",
    "Parametros: nombre ciudad, cantidad de meses para realizar el juste."
   ]
  },
  {
   "cell_type": "code",
   "execution_count": 64,
   "metadata": {},
   "outputs": [],
   "source": [
    "def graficarPrediccion(ciudad, año,mesesInicio, mesesFin):\n",
    "    ideam, nrel=darSeries(ciudad)\n",
    "    ideamCortada=cort(ideam,año,mesesInicio,mesesFin)['IDEAM'] \n",
    "    cCorregida=mcp(ideamCortada,nrel['NREL'],cort(nrel,año,mesesInicio,mesesFin)['NREL'])\n",
    "    datosIdeam=promDiaMen(ideam)\n",
    "    graficarDistribucionDeEnergia(nrel,'vieja','-r',datosIdeam)\n",
    "    graficarDistribucionDeEnergia(ideam,'IDEAM','-g',datosIdeam)\n",
    "    nuevaSerie=nrel\n",
    "    nuevaSerie['NREL']=cCorregida\n",
    "    graficarDistribucionDeEnergia(nuevaSerie,'Corregida','-k',datosIdeam)\n",
    "\n"
   ]
  },
  {
   "cell_type": "code",
   "execution_count": 66,
   "metadata": {},
   "outputs": [
    {
     "data": {
      "image/png": "[encoded data removed]",
      "text/plain": [
       "<matplotlib.figure.Figure at 0x7fdcd0ffb438>"
      ]
     },
     "metadata": {},
     "output_type": "display_data"
    }
   ],
   "source": [
    "graficarPrediccion('Cali',2007,3,6)"
   ]
  },
  {
   "cell_type": "markdown",
   "metadata": {},
   "source": [
    "Funcion que calcula el mean bias(MB)\n",
    "\n",
    "Parametros: ciudad, año, mes de inicio, mes de fin\n",
    "\n",
    "retorna: MB, serie nrel para calcular el mean bias relativo"
   ]
  },
  {
   "cell_type": "code",
   "execution_count": 133,
   "metadata": {},
   "outputs": [],
   "source": [
    "def MB(ciudad, año, mesesInicio, mesesFin):\n",
    "    ideam, nrel=darSeries(ciudad)\n",
    "    ideamCortada=cort(ideam, año, mesesInicio, mesesFin)[\"IDEAM\"]\n",
    "    nrelCortada=cort(nrel, año, mesesInicio, mesesFin)[\"NREL\"]\n",
    "    N=len(nrelCortada)\n",
    "    rest=array(nrelCortada)-array(ideamCortada)\n",
    "    suma=sum(rest)\n",
    "    return suma/N, nrel"
   ]
  },
  {
   "cell_type": "markdown",
   "metadata": {},
   "source": [
    "Funcion que calcula el mean bias realtivo (rMB)\n",
    "\n",
    "Parametros: ciudad, año, mes de inicio, mes de fin\n",
    "\n",
    "retorna: rMB"
   ]
  },
  {
   "cell_type": "code",
   "execution_count": 142,
   "metadata": {},
   "outputs": [],
   "source": [
    "def rMB(ciudad, año, mesesInicio, mesesFin):\n",
    "    mb, nrel=MB(ciudad,año,mesesInicio,mesesFin)\n",
    "    nrelCortado=cort(nrel,año,mesesInicio,mesesFin)['NREL']\n",
    "    suma=sum(nrelCortado)\n",
    "    N=len(nrelCortado)\n",
    "    div=suma/N\n",
    "    r=mb/div\n",
    "    return r"
   ]
  },
  {
   "cell_type": "markdown",
   "metadata": {},
   "source": [
    "Funcion que calcula el root mean square deviation (RMSD)\n",
    "\n",
    "Parametros: ciudad, año, mes de inicio, mes de fin\n",
    "\n",
    "retorna: RMSD, serie nrel\n"
   ]
  },
  {
   "cell_type": "code",
   "execution_count": 154,
   "metadata": {},
   "outputs": [],
   "source": [
    "def RMSD(ciudad, año, mesesInicio, mesesFin):\n",
    "    ideam, nrel=darSeries(ciudad)\n",
    "    ideamCortada=cort(ideam, año, mesesInicio, mesesFin)[\"IDEAM\"]\n",
    "    nrelCortada=cort(nrel, año, mesesInicio, mesesFin)[\"NREL\"]\n",
    "    N=len(nrelCortada)\n",
    "    rest=(array(nrelCortada)-array(ideamCortada))**2\n",
    "    suma=sum(rest)\n",
    "    div=suma/N\n",
    "    sq=div**(.5)\n",
    "    return sq, nrel"
   ]
  },
  {
   "cell_type": "markdown",
   "metadata": {},
   "source": [
    "Funcion que calcula el root mean square deviation relativo(RMSD)\n",
    "\n",
    "Parametros: ciudad, año, mes de inicio, mes de fin\n",
    "\n",
    "retorna: rRMSD"
   ]
  },
  {
   "cell_type": "code",
   "execution_count": 155,
   "metadata": {},
   "outputs": [],
   "source": [
    "def rRMSD(ciudad, año, mesesInicio, mesesFin):\n",
    "    mb, nrel=RMSD(ciudad,año,mesesInicio,mesesFin)\n",
    "    nrelCortado=cort(nrel,año,mesesInicio,mesesFin)['NREL']\n",
    "    suma=sum(nrelCortado)\n",
    "    N=len(nrelCortado)\n",
    "    div=suma/N\n",
    "    r=mb/div\n",
    "    return r\n"
   ]
  },
  {
   "cell_type": "code",
   "execution_count": 156,
   "metadata": {},
   "outputs": [
    {
     "data": {
      "text/plain": [
       "0.50026936424055679"
      ]
     },
     "execution_count": 156,
     "metadata": {},
     "output_type": "execute_result"
    }
   ],
   "source": [
    "rRMSD('Cali',2007,1,1)"
   ]
  },
  {
   "cell_type": "code",
   "execution_count": null,
   "metadata": {},
   "outputs": [],
   "source": []
  }
 ],
 "metadata": {
  "kernelspec": {
   "display_name": "Python 3.6",
   "language": "python",
   "name": "python36"
  },
  "language_info": {
   "codemirror_mode": {
    "name": "ipython",
    "version": 3
   },
   "file_extension": ".py",
   "mimetype": "text/x-python",
   "name": "python",
   "nbconvert_exporter": "python",
   "pygments_lexer": "ipython3",
   "version": "3.6.3"
  }
 },
 "nbformat": 4,
 "nbformat_minor": 2
}
